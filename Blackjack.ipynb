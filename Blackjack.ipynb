{
 "cells": [
  {
   "cell_type": "markdown",
   "metadata": {},
   "source": [
    "<h1>Making the Card and Deck Class</h1>"
   ]
  },
  {
   "cell_type": "code",
   "execution_count": 11,
   "metadata": {},
   "outputs": [],
   "source": [
    "import random #random will make the deck shuffle\n",
    "\n",
    "suits = ('Hearts', 'Diamonds', 'Spades', 'Clubs') #tuple\n",
    "ranks = ('Two', 'Three', 'Four', 'Five', 'Six', 'Seven', 'Eight', 'Nine', 'Ten', 'Jack','Queen', 'King', 'Ace') #tuple\n",
    "values = {'Two':2, 'Three':3, 'Four':4, 'Five':5, 'Six':6, 'Seven':7, 'Eight':8, 'Nine':9, 'Ten':10, 'Jack':10, 'Queen':10,\n",
    "         'King':10, 'Ace':11} #dictionary\n",
    "\n",
    "playing = True"
   ]
  },
  {
   "cell_type": "markdown",
   "metadata": {},
   "source": [
    "<h2>Create Card class</h2>"
   ]
  },
  {
   "cell_type": "code",
   "execution_count": 12,
   "metadata": {},
   "outputs": [],
   "source": [
    "class Card():\n",
    "    \n",
    "    def __init__(self,suit,rank):\n",
    "        \n",
    "        self.suit = suit\n",
    "        self.rank = rank\n",
    "    \n",
    "    def __str__(self):\n",
    "        return ('{} of {}'.format(self.rank,self.suit))"
   ]
  },
  {
   "cell_type": "markdown",
   "metadata": {},
   "source": [
    "<h2>Creat Deck Class</h2>"
   ]
  },
  {
   "cell_type": "markdown",
   "metadata": {},
   "source": [
    "<ul>\n",
    "    <li>store 52 objects in a list that can be shuffled</li>\n",
    "</ul>"
   ]
  },
  {
   "cell_type": "code",
   "execution_count": 13,
   "metadata": {},
   "outputs": [],
   "source": [
    "class Deck():\n",
    "    \n",
    "    def __init__(self):\n",
    "        self.deck = [] #we are starting with an empty list\n",
    "        for suit in suits:\n",
    "            for rank in ranks:\n",
    "                self.deck.append(Card(suit,rank)) #this makes a list for the deck of cards\n",
    "    \n",
    "    def __str__(self):\n",
    "        deck_comp = '' #empty string\n",
    "        for card in self.deck:\n",
    "            deck_comp += '\\n'+ card.__str__() #this prints out the string representation of the deck\n",
    "        return \"The deck has: \"+deck_comp\n",
    "    \n",
    "    def shuffle(self):\n",
    "        random.shuffle(self.deck)\n",
    "        \n",
    "    def deal(self):\n",
    "        single_card = self.deck.pop()\n",
    "        return single_card"
   ]
  },
  {
   "cell_type": "markdown",
   "metadata": {},
   "source": [
    "<h3>Test so far</h3>"
   ]
  },
  {
   "cell_type": "code",
   "execution_count": 15,
   "metadata": {},
   "outputs": [
    {
     "name": "stdout",
     "output_type": "stream",
     "text": [
      "The deck has: \n",
      "King of Hearts\n",
      "Ten of Diamonds\n",
      "Queen of Spades\n",
      "Two of Clubs\n",
      "Five of Hearts\n",
      "Four of Diamonds\n",
      "Seven of Hearts\n",
      "Six of Diamonds\n",
      "Ace of Hearts\n",
      "Ten of Spades\n",
      "Jack of Diamonds\n",
      "Ten of Hearts\n",
      "Two of Diamonds\n",
      "Three of Spades\n",
      "Three of Diamonds\n",
      "Six of Spades\n",
      "Nine of Clubs\n",
      "Two of Spades\n",
      "Jack of Clubs\n",
      "Five of Spades\n",
      "Queen of Clubs\n",
      "Nine of Diamonds\n",
      "Seven of Clubs\n",
      "King of Clubs\n",
      "Seven of Spades\n",
      "Ace of Clubs\n",
      "Six of Clubs\n",
      "Jack of Spades\n",
      "Three of Hearts\n",
      "Four of Hearts\n",
      "Nine of Spades\n",
      "Jack of Hearts\n",
      "Eight of Diamonds\n",
      "King of Spades\n",
      "Eight of Hearts\n",
      "Ace of Spades\n",
      "Eight of Spades\n",
      "Queen of Hearts\n",
      "King of Diamonds\n",
      "Queen of Diamonds\n",
      "Nine of Hearts\n",
      "Eight of Clubs\n",
      "Five of Diamonds\n",
      "Ace of Diamonds\n",
      "Two of Hearts\n",
      "Six of Hearts\n",
      "Three of Clubs\n",
      "Ten of Clubs\n",
      "Five of Clubs\n",
      "Four of Clubs\n",
      "Four of Spades\n",
      "Seven of Diamonds\n"
     ]
    }
   ],
   "source": [
    "test_deck = Deck()\n",
    "test_deck.shuffle()\n",
    "print(test_deck)"
   ]
  },
  {
   "cell_type": "markdown",
   "metadata": {},
   "source": [
    "<h2>Create a hand class</h2>"
   ]
  },
  {
   "cell_type": "code",
   "execution_count": 21,
   "metadata": {},
   "outputs": [],
   "source": [
    "class Hand():\n",
    "    def __init__(self):\n",
    "        self.cards = [] #empty list\n",
    "        self.value = 0 #start with a value of 0\n",
    "        self.aces = 0 #keeps track of aces\n",
    "    \n",
    "    def add_card (self,card):\n",
    "        #card passes in from Deck.deal() \n",
    "        self.cards.append(card)\n",
    "        self.value += values[card.rank]\n",
    "        \n",
    "        #track aces\n",
    "        if card.rank == 'Ace':\n",
    "            self.aces += 1\n",
    "        \n",
    "    def adjust_for_ace(self):\n",
    "        \n",
    "        #If total value > 21 and I still have ace..Than change ace to be 1 instead of 11\n",
    "        while self.value > 21 and self.aces > 0: #not going to adjust value if over 21\n",
    "            self.value -= 10\n",
    "            self.aces -= 1"
   ]
  },
  {
   "cell_type": "code",
   "execution_count": 18,
   "metadata": {},
   "outputs": [
    {
     "name": "stdout",
     "output_type": "stream",
     "text": [
      "Five of Hearts\n",
      "5\n"
     ]
    }
   ],
   "source": [
    "test_deck = Deck()\n",
    "test_deck.shuffle()\n",
    "\n",
    "#Player\n",
    "test_player = Hand()\n",
    "#deal 1 card from the deck\n",
    "pulled_card = test_deck.deal()\n",
    "print(pulled_card)\n",
    "test_player.add_card(pulled_card)\n",
    "print(test_player.value)"
   ]
  },
  {
   "cell_type": "code",
   "execution_count": 19,
   "metadata": {},
   "outputs": [],
   "source": [
    "test_player.add_card(test_deck.deal())"
   ]
  },
  {
   "cell_type": "code",
   "execution_count": 20,
   "metadata": {},
   "outputs": [
    {
     "data": {
      "text/plain": [
       "15"
      ]
     },
     "execution_count": 20,
     "metadata": {},
     "output_type": "execute_result"
    }
   ],
   "source": [
    "test_player.value"
   ]
  },
  {
   "cell_type": "code",
   "execution_count": null,
   "metadata": {},
   "outputs": [],
   "source": []
  },
  {
   "cell_type": "markdown",
   "metadata": {},
   "source": [
    "<h2>Create Chip Class</h3>"
   ]
  },
  {
   "cell_type": "code",
   "execution_count": 22,
   "metadata": {},
   "outputs": [],
   "source": [
    "class Chips():\n",
    "    \n",
    "    def __init__(self,total=100):\n",
    "        self.total = total #This can be set to a default value or supplied by a user input\n",
    "        self.bet = 0\n",
    "    \n",
    "    def win_bet(self):\n",
    "        self.total += self.bet\n",
    "    \n",
    "    def lose_bet(self):\n",
    "        self.total -= self.bet"
   ]
  },
  {
   "cell_type": "markdown",
   "metadata": {},
   "source": [
    "<h2>Take Bets</h2>"
   ]
  },
  {
   "cell_type": "code",
   "execution_count": 23,
   "metadata": {},
   "outputs": [],
   "source": [
    "def take_bet(chips):\n",
    "    \n",
    "    while True:\n",
    "        \n",
    "        try:\n",
    "            chips.bet = int(input(\"How many chips would you like to bet? \"))\n",
    "        except:\n",
    "            print(\"Sorry, please use an integer\")\n",
    "        else:\n",
    "            if chips.bet > chips.total:\n",
    "                print('Sorry, you do not have enough chips! you have: {}'.format(chips.total))\n",
    "            else:\n",
    "                break\n",
    "    "
   ]
  },
  {
   "cell_type": "markdown",
   "metadata": {},
   "source": [
    "<h2>Take Hit</h2>"
   ]
  },
  {
   "cell_type": "code",
   "execution_count": 24,
   "metadata": {},
   "outputs": [],
   "source": [
    "def hit (deck,hand):\n",
    "    \n",
    "    single_card = deck.deal()\n",
    "    hand.add_card(single_card)\n",
    "    hand.adjust_for_ace()"
   ]
  },
  {
   "cell_type": "markdown",
   "metadata": {},
   "source": [
    "<h2>Write a function prompting the Player to Hit or Stand</h2>"
   ]
  },
  {
   "cell_type": "code",
   "execution_count": 27,
   "metadata": {},
   "outputs": [],
   "source": [
    "def hit_or_stand(deck,hand):\n",
    "    \n",
    "    global playing \n",
    "    \n",
    "    while True:\n",
    "        x = input('Hit or Stand? Enter h or s') #the following takes first letter from what is entered\n",
    "        \n",
    "        if x[0].lower() == 'h':\n",
    "            hit(deck,hand)\n",
    "            \n",
    "        elif x[0].lower() == 's':\n",
    "            print(\"Player Stands, Dealer's Turn\")\n",
    "            playing = False\n",
    "        else:\n",
    "            print(\"Sorry, I did not understand that, please enter h or s only\")\n",
    "            continue\n",
    "        break\n",
    "            "
   ]
  },
  {
   "cell_type": "markdown",
   "metadata": {},
   "source": [
    "<h2>Write Function to Display Cards</h2>"
   ]
  },
  {
   "cell_type": "code",
   "execution_count": 28,
   "metadata": {},
   "outputs": [],
   "source": [
    "def show_some(player,dealer):\n",
    "    \n",
    "    print('Dealers Hand: ')\n",
    "    print('one card hidden!')\n",
    "    print(dealer.cards[1])\n",
    "    print('\\n')\n",
    "    print('Players Hand: ')\n",
    "    for card in player.cards:\n",
    "        print(card)\n",
    "    \n",
    "def show_all(player,dealer):\n",
    "    \n",
    "    print('Dealers Hand: ')\n",
    "    for card in dealer.cards:\n",
    "        print(card)\n",
    "    print('\\n')\n",
    "    print('Players Hand: ')\n",
    "    for card in player.cards:\n",
    "        print(card)\n",
    "          "
   ]
  },
  {
   "cell_type": "markdown",
   "metadata": {},
   "source": [
    "<h2>Function to Handle End of Game Scenarios</h2>\n",
    "<p>Pass player's hand, dealer's hand and chips when needed</p>"
   ]
  },
  {
   "cell_type": "code",
   "execution_count": 26,
   "metadata": {},
   "outputs": [],
   "source": [
    "def player_busts(player,dealer,chips):\n",
    "    print ('Player Busts!!')\n",
    "    chips.lose_bet()\n",
    "\n",
    "def player_wins(player,dealer,chips):\n",
    "    print('Player Wins!!')\n",
    "    chips.win_bet()\n",
    "\n",
    "def dealer_busts(player,dealer,chips):\n",
    "    print ('Dealer Busts!!')\n",
    "    chips.win.bet()\n",
    "\n",
    "def dealer_wins(player,dealer,chips):\n",
    "    print ('Dealer Wins!!!')\n",
    "    chips.lose_bet()\n",
    "\n",
    "def push(player,dealer):\n",
    "    print ('Dealer and player tier! PUSH!')"
   ]
  },
  {
   "cell_type": "markdown",
   "metadata": {},
   "source": [
    "<h2>Game Logic</h2>"
   ]
  },
  {
   "cell_type": "code",
   "execution_count": null,
   "metadata": {},
   "outputs": [
    {
     "name": "stdout",
     "output_type": "stream",
     "text": [
      "Welcome to blackjack\n",
      "How many chips would you like to bet? 300\n",
      "Sorry, you do not have enough chips! you have: 100\n",
      "How many chips would you like to bet? 50\n",
      "Dealers Hand: \n",
      "one card hidden!\n",
      "Seven of Clubs\n",
      "\n",
      "\n",
      "Players Hand: \n",
      "Five of Hearts\n",
      "Queen of Hearts\n",
      "Hit or Stand? Enter h or ss\n",
      "Player Stands, Dealer's Turn\n",
      "Dealers Hand: \n",
      "one card hidden!\n",
      "Seven of Clubs\n",
      "\n",
      "\n",
      "Players Hand: \n",
      "Five of Hearts\n",
      "Queen of Hearts\n",
      "Dealers Hand: \n",
      "Jack of Spades\n",
      "Seven of Clubs\n",
      "\n",
      "\n",
      "Players Hand: \n",
      "Five of Hearts\n",
      "Queen of Hearts\n",
      "Dealer Wins!!!\n",
      "\n",
      " Player total chips are at: 50\n"
     ]
    }
   ],
   "source": [
    "while True:\n",
    "    #print an opening statement\n",
    "    print(\"Welcome to blackjack\")\n",
    "    #create and shuffle the deck, deal two cards to each player\n",
    "    deck = Deck()\n",
    "    deck.shuffle()\n",
    "    \n",
    "    player_hand = Hand()\n",
    "    player_hand.add_card(deck.deal())\n",
    "    player_hand.add_card(deck.deal())\n",
    "\n",
    "    dealer_hand = Hand()\n",
    "    dealer_hand.add_card(deck.deal())\n",
    "    dealer_hand.add_card(deck.deal())\n",
    "    \n",
    "    \n",
    "    #set up the player's chips\n",
    "    player_chips = Chips()\n",
    "    \n",
    "    #prompt the player for their bet\n",
    "    take_bet(player_chips)\n",
    "    \n",
    "    #show ccards (but keep one dealer card hidden\n",
    "    show_some(player_hand,dealer_hand)\n",
    "    \n",
    "    while playing: #this variable is in the hit_or_stand function\n",
    "        \n",
    "        #prompt the player to hit or stand\n",
    "        hit_or_stand(deck,player_hand)\n",
    "        \n",
    "        #show cards (but keep one dealer card hidden)\n",
    "        show_some(player_hand,dealer_hand)\n",
    "        \n",
    "        #if player's hand exceeds 21, run player_busts() and break out of loop\n",
    "        if player_hand.value > 21:\n",
    "            player_busts(player_hand,dealer_hand,player_chips)\n",
    "            \n",
    "            break\n",
    "        \n",
    "    #if player hasn't busted, play dealer's hand until dealer reaches 17\n",
    "    if player_hand.value <= 21:\n",
    "        while dealer_hand.value < player_hand.value: #soft seventeen\n",
    "            hit(deck,dealer_hand)\n",
    "            \n",
    "        #show all cards\n",
    "        show_all(player_hand,dealer_hand)\n",
    "        \n",
    "        #run different winning scenarios\n",
    "        if dealer_hand.value >21:\n",
    "            dealer_busts(player_hand,dealer_hand,player_chips)\n",
    "        elif dealer_hand.value > player_hand.value:\n",
    "            dealer_wins(player_hand,dealer_hand,player_chips)\n",
    "        elif dealer_hand.value < player_hand.value:\n",
    "            player_wins(player_hand,dealer_hand,player_chips)\n",
    "        else:\n",
    "            push(player_hand,dealer_hand)\n",
    "    \n",
    "    #Let player know their chip total\n",
    "    print('\\n Player total chips are at: {}'.format(player_chips.total))\n",
    "    #ask to play again\n",
    "    new_game = input(\"would you like to play another hand? y/n\")\n",
    "    \n",
    "    if new_game[0].lower() == 'y':\n",
    "        playing = True\n",
    "        continue\n",
    "    else:\n",
    "        print('Thank you for playing!')\n",
    "        break"
   ]
  },
  {
   "cell_type": "code",
   "execution_count": null,
   "metadata": {},
   "outputs": [],
   "source": []
  }
 ],
 "metadata": {
  "kernelspec": {
   "display_name": "Python 3",
   "language": "python",
   "name": "python3"
  },
  "language_info": {
   "codemirror_mode": {
    "name": "ipython",
    "version": 3
   },
   "file_extension": ".py",
   "mimetype": "text/x-python",
   "name": "python",
   "nbconvert_exporter": "python",
   "pygments_lexer": "ipython3",
   "version": "3.6.4"
  }
 },
 "nbformat": 4,
 "nbformat_minor": 2
}
